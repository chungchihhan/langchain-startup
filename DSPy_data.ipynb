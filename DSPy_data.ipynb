{
 "cells": [
  {
   "cell_type": "code",
   "execution_count": 1,
   "metadata": {},
   "outputs": [
    {
     "data": {
      "text/plain": [
       "True"
      ]
     },
     "execution_count": 1,
     "metadata": {},
     "output_type": "execute_result"
    }
   ],
   "source": [
    "from dotenv import load_dotenv\n",
    "load_dotenv()"
   ]
  },
  {
   "cell_type": "code",
   "execution_count": 2,
   "metadata": {},
   "outputs": [
    {
     "name": "stderr",
     "output_type": "stream",
     "text": [
      "/home/cch1006/langchain-startup/venv/lib/python3.10/site-packages/tqdm/auto.py:21: TqdmWarning: IProgress not found. Please update jupyter and ipywidgets. See https://ipywidgets.readthedocs.io/en/stable/user_install.html\n",
      "  from .autonotebook import tqdm as notebook_tqdm\n"
     ]
    }
   ],
   "source": [
    "import dspy\n",
    "gpt3_turbo = dspy.OpenAI(model='gpt-3.5-turbo-1106', max_tokens=300)\n",
    "dspy.configure(lm=gpt3_turbo)"
   ]
  },
  {
   "cell_type": "markdown",
   "metadata": {},
   "source": [
    "#### DSPy Example objects"
   ]
  },
  {
   "cell_type": "code",
   "execution_count": 3,
   "metadata": {},
   "outputs": [
    {
     "name": "stdout",
     "output_type": "stream",
     "text": [
      "Example({'question': 'This is a question?', 'answer': 'This is an answer.'}) (input_keys=None)\n",
      "This is a question?\n",
      "This is an answer.\n"
     ]
    }
   ],
   "source": [
    "qa_pair = dspy.Example(question=\"This is a question?\", answer=\"This is an answer.\")\n",
    "\n",
    "print(qa_pair)\n",
    "print(qa_pair.question)\n",
    "print(qa_pair.answer)"
   ]
  },
  {
   "cell_type": "code",
   "execution_count": 4,
   "metadata": {},
   "outputs": [
    {
     "name": "stdout",
     "output_type": "stream",
     "text": [
      "[Example({'report': 'LONG REPORT 1', 'summary': 'short summary 1'}) (input_keys=None), Example({'report': 'LONG REPORT 2', 'summary': 'short summary 2'}) (input_keys=None)]\n"
     ]
    }
   ],
   "source": [
    "trainset = [dspy.Example(report=\"LONG REPORT 1\", summary=\"short summary 1\"),dspy.Example(report=\"LONG REPORT 2\", summary=\"short summary 2\")]\n",
    "print(trainset)"
   ]
  },
  {
   "cell_type": "markdown",
   "metadata": {},
   "source": [
    "#### Set up the trainset and the devset"
   ]
  },
  {
   "cell_type": "code",
   "execution_count": 7,
   "metadata": {},
   "outputs": [
    {
     "name": "stdout",
     "output_type": "stream",
     "text": [
      "[Example({'introduction': 'Tiger is a animal that is known for its strength and majestic stripes.', 'reason': 'I like tigers because they are powerful and have a regal presence.'}) (input_keys=None), Example({'introduction': \"Lion is an animal that is often called the 'King of the Jungle' because of its imposing mane and roar.\", 'reason': 'I like lions because they represent courage and leadership.'}) (input_keys=None), Example({'introduction': 'Elephant is an animal that is the largest land mammal, known for its intelligence and long tusks.', 'reason': 'I like elephants because they are gentle giants with strong social bonds.'}) (input_keys=None), Example({'introduction': 'Giraffe is an animal that is known for its long neck and legs, allowing it to reach leaves high in trees.', 'reason': 'I like giraffes because they are unique and graceful.'}) (input_keys=None), Example({'introduction': 'Cheetah is an animal that is the fastest land animal, capable of reaching speeds up to 75 mph.', 'reason': 'I like cheetahs because they are incredibly swift and agile.'}) (input_keys=None), Example({'introduction': 'Penguin is an animal that is known for its distinctive black and white plumage and ability to swim in cold waters.', 'reason': 'I like penguins because they are cute and resilient.'}) (input_keys=None)]\n",
      "[Example({'introduction': 'Monkey is an animal that is known for its intelligence and ability to use tools.', 'reason': 'I like monkeys because they are playful and smart.'}) (input_keys=None), Example({'introduction': 'Dog is an animal that is known for its loyalty and companionship to humans.', 'reason': \"I like dogs because they are faithful and bring joy to people's lives.\"}) (input_keys=None), Example({'introduction': 'Panda is an animal that is known for its distinctive black and white fur and love for bamboo.', 'reason': 'I like pandas because they are adorable and symbolize peace.'}) (input_keys=None), Example({'introduction': 'Kangaroo is an animal that is known for its powerful hind legs and ability to hop at high speeds.', 'reason': 'I like kangaroos because they are fascinating and unique to Australia.'}) (input_keys=None)]\n"
     ]
    }
   ],
   "source": [
    "# Create a larger training set\n",
    "trainset = [\n",
    "    dspy.Example(introduction=\"Tiger is a animal that is known for its strength and majestic stripes.\", reason=\"I like tigers because they are powerful and have a regal presence.\"),\n",
    "    dspy.Example(introduction=\"Lion is an animal that is often called the 'King of the Jungle' because of its imposing mane and roar.\", reason=\"I like lions because they represent courage and leadership.\"),\n",
    "    dspy.Example(introduction=\"Elephant is an animal that is the largest land mammal, known for its intelligence and long tusks.\", reason=\"I like elephants because they are gentle giants with strong social bonds.\"),\n",
    "    dspy.Example(introduction=\"Giraffe is an animal that is known for its long neck and legs, allowing it to reach leaves high in trees.\", reason=\"I like giraffes because they are unique and graceful.\"),\n",
    "    dspy.Example(introduction=\"Cheetah is an animal that is the fastest land animal, capable of reaching speeds up to 75 mph.\", reason=\"I like cheetahs because they are incredibly swift and agile.\"),\n",
    "    dspy.Example(introduction=\"Penguin is an animal that is known for its distinctive black and white plumage and ability to swim in cold waters.\", reason=\"I like penguins because they are cute and resilient.\")\n",
    "]\n",
    "\n",
    "# Create a development set\n",
    "devset = [\n",
    "    dspy.Example(introduction=\"Monkey is an animal that is known for its intelligence and ability to use tools.\", reason=\"I like monkeys because they are playful and smart.\"),\n",
    "    dspy.Example(introduction=\"Dog is an animal that is known for its loyalty and companionship to humans.\", reason=\"I like dogs because they are faithful and bring joy to people's lives.\"),\n",
    "    dspy.Example(introduction=\"Panda is an animal that is known for its distinctive black and white fur and love for bamboo.\", reason=\"I like pandas because they are adorable and symbolize peace.\"),\n",
    "    dspy.Example(introduction=\"Kangaroo is an animal that is known for its powerful hind legs and ability to hop at high speeds.\", reason=\"I like kangaroos because they are fascinating and unique to Australia.\")\n",
    "]\n",
    "\n",
    "print(trainset)\n",
    "print(devset)"
   ]
  },
  {
   "cell_type": "markdown",
   "metadata": {},
   "source": [
    "Convert the trainset to `string` for ChainOfThought to use"
   ]
  },
  {
   "cell_type": "code",
   "execution_count": 170,
   "metadata": {},
   "outputs": [
    {
     "data": {
      "text/plain": [
       "\"introduction: Tiger is a animal that is known for its strength and majestic stripes.,reason: I like tigers because they are powerful and have a regal presence.\\n introduction: Lion is an animal that is often called the 'King of the Jungle' because of its imposing mane and roar.,reason: I like lions because they represent courage and leadership.\\n introduction: Elephant is an animal that is the largest land mammal, known for its intelligence and long tusks.,reason: I like elephants because they are gentle giants with strong social bonds.\\n introduction: Giraffe is an animal that is known for its long neck and legs, allowing it to reach leaves high in trees.,reason: I like giraffes because they are unique and graceful.\\n introduction: Cheetah is an animal that is the fastest land animal, capable of reaching speeds up to 75 mph.,reason: I like cheetahs because they are incredibly swift and agile.\\n introduction: Penguin is an animal that is known for its distinctive black and white plumage and ability to swim in cold waters.,reason: I like penguins because they are cute and resilient.\\n \""
      ]
     },
     "execution_count": 170,
     "metadata": {},
     "output_type": "execute_result"
    }
   ],
   "source": [
    "def format_trainset(trainset):\n",
    "    formatted_trainset = \"\"\n",
    "    for i in trainset :\n",
    "        formatted_trainset += \"introduction: \"+ i.introduction + \",\" + \"reason: \"+ i.reason + \"\\n \"\n",
    "    return (formatted_trainset)\n",
    "format_trainset(trainset)"
   ]
  },
  {
   "cell_type": "markdown",
   "metadata": {},
   "source": [
    "#### Set up the program for your DSPy predict using ChainOfThought"
   ]
  },
  {
   "cell_type": "code",
   "execution_count": 172,
   "metadata": {},
   "outputs": [
    {
     "name": "stdout",
     "output_type": "stream",
     "text": [
      "Prediction(\n",
      "    rationale='produce the reason. We can see that monkeys are highly intelligent and have the ability to problem solve and use tools, making them fascinating to observe and learn from.',\n",
      "    reason='I like monkeys because they are incredibly intelligent and fascinating to watch.'\n",
      ")\n"
     ]
    }
   ],
   "source": [
    "class ReasonLikesAnimal(dspy.Signature):\n",
    "    \"\"\"Take a look at the trainset, it is a list of examples of how you should predict the reason.Based on the introduction, sum up the features what animals have.Take a assumption of what people could say when the say the y like the animal.Start the sentence with 'I like' and end with a period.\"\"\"\n",
    "\n",
    "    trainset = dspy.InputField(desc=\"A list of examples of animals and the reasons why people like them.\")\n",
    "    introduction = dspy.InputField(desc=\"animal featurs and characteristics.\")\n",
    "    reason = dspy.OutputField(desc=\"The reason that I like the animal. Start the sentence with 'I like' and end with a period.\")\n",
    "\n",
    "program = dspy.ChainOfThought(ReasonLikesAnimal)\n",
    "response = program(trainset = format_trainset(trainset), introduction=devset[0].introduction)\n",
    "print(response)"
   ]
  },
  {
   "cell_type": "markdown",
   "metadata": {},
   "source": [
    "#### Intermediate: Using AI feedback for your metric\n",
    "- the validation is based on three standards , which are reason_match, pattern_match and quality_match"
   ]
  },
  {
   "cell_type": "code",
   "execution_count": 151,
   "metadata": {},
   "outputs": [],
   "source": [
    "# Define the signature for automatic assessments.\n",
    "class Assess(dspy.Signature):\n",
    "    \"\"\"Assess the quality of a tweet along the specified dimension.\"\"\"\n",
    "\n",
    "    assessed_text = dspy.InputField()\n",
    "    assessment_question = dspy.InputField()\n",
    "    assessment_answer = dspy.OutputField(desc=\"Yes or No\")\n",
    "\n",
    "gpt4T = dspy.OpenAI(model='gpt-4-1106-preview', max_tokens=1000, model_type='chat')\n",
    "\n",
    "def validate_answer(example, pred, trace=None):\n",
    "    # introduction_match = example.introduction.lower() in pred.reason.lower()\n",
    "    reason_match = example.reason.lower() in pred.reason.lower()\n",
    "    pattern_match = pred.reason.lower().startswith(\"i like\")\n",
    "\n",
    "    quality_question = \"Is the assessed text a well-written and coherent response?\"\n",
    "    with dspy.context(lm=gpt4T):\n",
    "        quality = dspy.Predict(Assess)(assessed_text=pred.reason, assessment_question=quality_question)\n",
    "\n",
    "    quality_match = quality.assessment_answer.lower() == 'yes'\n",
    "\n",
    "    print(reason_match, pattern_match, quality_match)\n",
    "    if trace is None:  # if we're doing evaluation or optimization\n",
    "        return (pattern_match + reason_match + quality_match) / 3.0\n",
    "    else:  # if we're doing bootstrapping, i.e., self-generating good demonstrations of each step\n",
    "        return pattern_match + reason_match and quality_match\n"
   ]
  },
  {
   "cell_type": "code",
   "execution_count": 152,
   "metadata": {},
   "outputs": [
    {
     "name": "stdout",
     "output_type": "stream",
     "text": [
      "False True True\n"
     ]
    },
    {
     "data": {
      "text/plain": [
       "0.6666666666666666"
      ]
     },
     "execution_count": 152,
     "metadata": {},
     "output_type": "execute_result"
    }
   ],
   "source": [
    "response = program(introduction=devset[0].introduction)\n",
    "validate_answer(devset[0], response)"
   ]
  },
  {
   "cell_type": "code",
   "execution_count": 132,
   "metadata": {},
   "outputs": [
    {
     "name": "stdout",
     "output_type": "stream",
     "text": [
      "Monkey is an animal that is known for its intelligence and ability to use tools.\n",
      "Prediction(\n",
      "    rationale='understand the unique features of monkeys. They have dexterous hands and are able to problem solve and communicate with each other.',\n",
      "    reason='I like the monkey because of its intelligence and ability to use tools.'\n",
      ")\n",
      "\n",
      "\n",
      "I like monkeys because they are playful and smart.\n",
      "I like the monkey because of its intelligence and ability to use tools.\n"
     ]
    }
   ],
   "source": [
    "print(devset[0].introduction)\n",
    "print(response)\n",
    "print(\"\\n\")\n",
    "print(devset[0].reason)\n",
    "print(response.reason)"
   ]
  },
  {
   "cell_type": "markdown",
   "metadata": {},
   "source": [
    "#### A easy for loop to grade the devset"
   ]
  },
  {
   "cell_type": "code",
   "execution_count": 153,
   "metadata": {},
   "outputs": [
    {
     "name": "stdout",
     "output_type": "stream",
     "text": [
      "False True True\n",
      "False True True\n",
      "False True True\n",
      "False True True\n",
      "[0.6666666666666666, 0.6666666666666666, 0.6666666666666666, 0.6666666666666666]\n"
     ]
    }
   ],
   "source": [
    "scores= []\n",
    "for x in devset:\n",
    "    pred = program(introduction=x.with_inputs(\"introduction\").inputs().introduction)\n",
    "    score = validate_answer(x,pred)\n",
    "    scores.append(score)\n",
    "print(scores)"
   ]
  },
  {
   "cell_type": "markdown",
   "metadata": {},
   "source": [
    "#### Use dspy.evaluate to grade devset completely "
   ]
  },
  {
   "cell_type": "code",
   "execution_count": 156,
   "metadata": {},
   "outputs": [
    {
     "name": "stdout",
     "output_type": "stream",
     "text": [
      "[Example({'introduction': 'Monkey is an animal that is known for its intelligence and ability to use tools.', 'reason': 'I like monkeys because they are playful and smart.'}) (input_keys={'introduction'}), Example({'introduction': 'Dog is an animal that is known for its loyalty and companionship to humans.', 'reason': \"I like dogs because they are faithful and bring joy to people's lives.\"}) (input_keys={'introduction'}), Example({'introduction': 'Panda is an animal that is known for its distinctive black and white fur and love for bamboo.', 'reason': 'I like pandas because they are adorable and symbolize peace.'}) (input_keys={'introduction'}), Example({'introduction': 'Kangaroo is an animal that is known for its powerful hind legs and ability to hop at high speeds.', 'reason': 'I like kangaroos because they are fascinating and unique to Australia.'}) (input_keys={'introduction'})]\n",
      "---------------------\n"
     ]
    },
    {
     "name": "stderr",
     "output_type": "stream",
     "text": [
      "Average Metric: 2.6666666666666665 / 4  (66.7): 100%|██████████| 4/4 [00:00<00:00, 594.79it/s]"
     ]
    },
    {
     "name": "stdout",
     "output_type": "stream",
     "text": [
      "False True True\n",
      "False True True\n",
      "False True True\n",
      "False True True\n",
      "Average Metric: 2.6666666666666665 / 4  (66.7%)\n"
     ]
    },
    {
     "name": "stderr",
     "output_type": "stream",
     "text": [
      "\n",
      "/home/cch1006/langchain-startup/venv/lib/python3.10/site-packages/dspy/evaluate/evaluate.py:142: FutureWarning: DataFrame.applymap has been deprecated. Use DataFrame.map instead.\n",
      "  df = df.applymap(truncate_cell)\n",
      "/home/cch1006/langchain-startup/venv/lib/python3.10/site-packages/dspy/evaluate/evaluate.py:216: FutureWarning: Setting an item of incompatible dtype is deprecated and will raise in a future error of pandas. Value '['0.6666666666666666' '0.6666666666666666' '0.6666666666666666'\n",
      " '0.6666666666666666']' has dtype incompatible with float64, please explicitly cast to a compatible dtype first.\n",
      "  df.loc[:, metric_name] = df[metric_name].apply(lambda x: f'✔️ [{x}]' if x is True else f'{x}')\n"
     ]
    },
    {
     "data": {
      "text/html": [
       "<style type=\"text/css\">\n",
       "#T_054e1 th {\n",
       "  text-align: left;\n",
       "}\n",
       "#T_054e1 td {\n",
       "  text-align: left;\n",
       "}\n",
       "#T_054e1_row0_col0, #T_054e1_row0_col1, #T_054e1_row0_col2, #T_054e1_row0_col3, #T_054e1_row0_col4, #T_054e1_row1_col0, #T_054e1_row1_col1, #T_054e1_row1_col2, #T_054e1_row1_col3, #T_054e1_row1_col4, #T_054e1_row2_col0, #T_054e1_row2_col1, #T_054e1_row2_col2, #T_054e1_row2_col3, #T_054e1_row2_col4, #T_054e1_row3_col0, #T_054e1_row3_col1, #T_054e1_row3_col2, #T_054e1_row3_col3, #T_054e1_row3_col4 {\n",
       "  text-align: left;\n",
       "  white-space: pre-wrap;\n",
       "  word-wrap: break-word;\n",
       "  max-width: 400px;\n",
       "}\n",
       "</style>\n",
       "<table id=\"T_054e1\">\n",
       "  <thead>\n",
       "    <tr>\n",
       "      <th class=\"blank level0\" >&nbsp;</th>\n",
       "      <th id=\"T_054e1_level0_col0\" class=\"col_heading level0 col0\" >introduction</th>\n",
       "      <th id=\"T_054e1_level0_col1\" class=\"col_heading level0 col1\" >example_reason</th>\n",
       "      <th id=\"T_054e1_level0_col2\" class=\"col_heading level0 col2\" >rationale</th>\n",
       "      <th id=\"T_054e1_level0_col3\" class=\"col_heading level0 col3\" >pred_reason</th>\n",
       "      <th id=\"T_054e1_level0_col4\" class=\"col_heading level0 col4\" >validate_answer</th>\n",
       "    </tr>\n",
       "  </thead>\n",
       "  <tbody>\n",
       "    <tr>\n",
       "      <th id=\"T_054e1_level0_row0\" class=\"row_heading level0 row0\" >0</th>\n",
       "      <td id=\"T_054e1_row0_col0\" class=\"data row0 col0\" >Monkey is an animal that is known for its intelligence and ability to use tools.</td>\n",
       "      <td id=\"T_054e1_row0_col1\" class=\"data row0 col1\" >I like monkeys because they are playful and smart.</td>\n",
       "      <td id=\"T_054e1_row0_col2\" class=\"data row0 col2\" >understand the unique features of monkeys. They have dexterous hands and are able to problem solve and communicate with each other.</td>\n",
       "      <td id=\"T_054e1_row0_col3\" class=\"data row0 col3\" >I like the monkey because of its intelligence and ability to use tools.</td>\n",
       "      <td id=\"T_054e1_row0_col4\" class=\"data row0 col4\" >0.6666666666666666</td>\n",
       "    </tr>\n",
       "    <tr>\n",
       "      <th id=\"T_054e1_level0_row1\" class=\"row_heading level0 row1\" >1</th>\n",
       "      <td id=\"T_054e1_row1_col0\" class=\"data row1 col0\" >Dog is an animal that is known for its loyalty and companionship to humans.</td>\n",
       "      <td id=\"T_054e1_row1_col1\" class=\"data row1 col1\" >I like dogs because they are faithful and bring joy to people's lives.</td>\n",
       "      <td id=\"T_054e1_row1_col2\" class=\"data row1 col2\" >understand why people like dogs. We can start by acknowledging their loyalty and companionship, as well as their playful and loving nature.</td>\n",
       "      <td id=\"T_054e1_row1_col3\" class=\"data row1 col3\" >I like dogs because they are loyal, loving, and make great companions.</td>\n",
       "      <td id=\"T_054e1_row1_col4\" class=\"data row1 col4\" >0.6666666666666666</td>\n",
       "    </tr>\n",
       "    <tr>\n",
       "      <th id=\"T_054e1_level0_row2\" class=\"row_heading level0 row2\" >2</th>\n",
       "      <td id=\"T_054e1_row2_col0\" class=\"data row2 col0\" >Panda is an animal that is known for its distinctive black and white fur and love for bamboo.</td>\n",
       "      <td id=\"T_054e1_row2_col1\" class=\"data row2 col1\" >I like pandas because they are adorable and symbolize peace.</td>\n",
       "      <td id=\"T_054e1_row2_col2\" class=\"data row2 col2\" >understand why people like pandas. We can start by considering their cute and cuddly appearance, their playful nature, and their unique diet of bamboo.</td>\n",
       "      <td id=\"T_054e1_row2_col3\" class=\"data row2 col3\" >I like the panda because of its adorable appearance and playful nature.</td>\n",
       "      <td id=\"T_054e1_row2_col4\" class=\"data row2 col4\" >0.6666666666666666</td>\n",
       "    </tr>\n",
       "    <tr>\n",
       "      <th id=\"T_054e1_level0_row3\" class=\"row_heading level0 row3\" >3</th>\n",
       "      <td id=\"T_054e1_row3_col0\" class=\"data row3 col0\" >Kangaroo is an animal that is known for its powerful hind legs and ability to hop at high speeds.</td>\n",
       "      <td id=\"T_054e1_row3_col1\" class=\"data row3 col1\" >I like kangaroos because they are fascinating and unique to Australia.</td>\n",
       "      <td id=\"T_054e1_row3_col2\" class=\"data row3 col2\" >understand why people like kangaroos. We can start by acknowledging their unique physical features and impressive agility.</td>\n",
       "      <td id=\"T_054e1_row3_col3\" class=\"data row3 col3\" >I like the kangaroo for its incredible ability to hop at high speeds and its powerful hind legs.</td>\n",
       "      <td id=\"T_054e1_row3_col4\" class=\"data row3 col4\" >0.6666666666666666</td>\n",
       "    </tr>\n",
       "  </tbody>\n",
       "</table>\n"
      ],
      "text/plain": [
       "<pandas.io.formats.style.Styler at 0x7f01aa2b9030>"
      ]
     },
     "metadata": {},
     "output_type": "display_data"
    },
    {
     "data": {
      "text/plain": [
       "66.67"
      ]
     },
     "execution_count": 156,
     "metadata": {},
     "output_type": "execute_result"
    }
   ],
   "source": [
    "devset_withinputs = []\n",
    "for x in devset:\n",
    "    x = x.with_inputs(\"introduction\")\n",
    "    devset_withinputs.append(x)\n",
    "print(devset_withinputs)\n",
    "print(\"---------------------\")\n",
    "\n",
    "from dspy.evaluate import Evaluate\n",
    "\n",
    "# Set up the evaluator, which can be re-used in your code.\n",
    "evaluator = Evaluate(devset=devset_withinputs, num_threads=1, display_progress=True, display_table=5)\n",
    "\n",
    "# Launch evaluation.\n",
    "evaluator(program, metric=validate_answer)"
   ]
  }
 ],
 "metadata": {
  "kernelspec": {
   "display_name": "venv",
   "language": "python",
   "name": "python3"
  },
  "language_info": {
   "codemirror_mode": {
    "name": "ipython",
    "version": 3
   },
   "file_extension": ".py",
   "mimetype": "text/x-python",
   "name": "python",
   "nbconvert_exporter": "python",
   "pygments_lexer": "ipython3",
   "version": "3.10.12"
  }
 },
 "nbformat": 4,
 "nbformat_minor": 2
}
