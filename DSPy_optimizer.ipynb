{
 "cells": [
  {
   "cell_type": "code",
   "execution_count": 1,
   "metadata": {},
   "outputs": [
    {
     "data": {
      "text/plain": [
       "True"
      ]
     },
     "execution_count": 1,
     "metadata": {},
     "output_type": "execute_result"
    }
   ],
   "source": [
    "from dotenv import load_dotenv\n",
    "load_dotenv()"
   ]
  },
  {
   "cell_type": "code",
   "execution_count": 2,
   "metadata": {},
   "outputs": [
    {
     "name": "stderr",
     "output_type": "stream",
     "text": [
      "/home/cch1006/langchain-startup/venv/lib/python3.10/site-packages/tqdm/auto.py:21: TqdmWarning: IProgress not found. Please update jupyter and ipywidgets. See https://ipywidgets.readthedocs.io/en/stable/user_install.html\n",
      "  from .autonotebook import tqdm as notebook_tqdm\n"
     ]
    }
   ],
   "source": [
    "import dspy\n",
    "gpt3_turbo = dspy.OpenAI(model='gpt-3.5-turbo-1106', max_tokens=300)\n",
    "dspy.configure(lm=gpt3_turbo)"
   ]
  },
  {
   "cell_type": "markdown",
   "metadata": {},
   "source": [
    "#### Set up the trainset and the devset"
   ]
  },
  {
   "cell_type": "code",
   "execution_count": 3,
   "metadata": {},
   "outputs": [
    {
     "name": "stdout",
     "output_type": "stream",
     "text": [
      "[Example({'introduction': 'Tiger is a animal that is known for its strength and majestic stripes.', 'reason': 'I like tigers because they are powerful and have a regal presence.'}) (input_keys=None), Example({'introduction': \"Lion is an animal that is often called the 'King of the Jungle' because of its imposing mane and roar.\", 'reason': 'I like lions because they represent courage and leadership.'}) (input_keys=None), Example({'introduction': 'Elephant is an animal that is the largest land mammal, known for its intelligence and long tusks.', 'reason': 'I like elephants because they are gentle giants with strong social bonds.'}) (input_keys=None), Example({'introduction': 'Giraffe is an animal that is known for its long neck and legs, allowing it to reach leaves high in trees.', 'reason': 'I like giraffes because they are unique and graceful.'}) (input_keys=None), Example({'introduction': 'Cheetah is an animal that is the fastest land animal, capable of reaching speeds up to 75 mph.', 'reason': 'I like cheetahs because they are incredibly swift and agile.'}) (input_keys=None), Example({'introduction': 'Penguin is an animal that is known for its distinctive black and white plumage and ability to swim in cold waters.', 'reason': 'I like penguins because they are cute and resilient.'}) (input_keys=None)]\n",
      "[Example({'introduction': 'Monkey is an animal that is known for its intelligence and ability to use tools.', 'reason': 'I like monkeys because they are playful and smart.'}) (input_keys=None), Example({'introduction': 'Dog is an animal that is known for its loyalty and companionship to humans.', 'reason': \"I like dogs because they are faithful and bring joy to people's lives.\"}) (input_keys=None), Example({'introduction': 'Panda is an animal that is known for its distinctive black and white fur and love for bamboo.', 'reason': 'I like pandas because they are adorable and symbolize peace.'}) (input_keys=None), Example({'introduction': 'Kangaroo is an animal that is known for its powerful hind legs and ability to hop at high speeds.', 'reason': 'I like kangaroos because they are fascinating and unique to Australia.'}) (input_keys=None)]\n"
     ]
    }
   ],
   "source": [
    "# Create a larger training set\n",
    "trainset = [\n",
    "    dspy.Example(introduction=\"Tiger is a animal that is known for its strength and majestic stripes.\", reason=\"I like tigers because they are powerful and have a regal presence.\"),\n",
    "    dspy.Example(introduction=\"Lion is an animal that is often called the 'King of the Jungle' because of its imposing mane and roar.\", reason=\"I like lions because they represent courage and leadership.\"),\n",
    "    dspy.Example(introduction=\"Elephant is an animal that is the largest land mammal, known for its intelligence and long tusks.\", reason=\"I like elephants because they are gentle giants with strong social bonds.\"),\n",
    "    dspy.Example(introduction=\"Giraffe is an animal that is known for its long neck and legs, allowing it to reach leaves high in trees.\", reason=\"I like giraffes because they are unique and graceful.\"),\n",
    "    dspy.Example(introduction=\"Cheetah is an animal that is the fastest land animal, capable of reaching speeds up to 75 mph.\", reason=\"I like cheetahs because they are incredibly swift and agile.\"),\n",
    "    dspy.Example(introduction=\"Penguin is an animal that is known for its distinctive black and white plumage and ability to swim in cold waters.\", reason=\"I like penguins because they are cute and resilient.\")\n",
    "]\n",
    "\n",
    "# Create a development set\n",
    "devset = [\n",
    "    dspy.Example(introduction=\"Monkey is an animal that is known for its intelligence and ability to use tools.\", reason=\"I like monkeys because they are playful and smart.\"),\n",
    "    dspy.Example(introduction=\"Dog is an animal that is known for its loyalty and companionship to humans.\", reason=\"I like dogs because they are faithful and bring joy to people's lives.\"),\n",
    "    dspy.Example(introduction=\"Panda is an animal that is known for its distinctive black and white fur and love for bamboo.\", reason=\"I like pandas because they are adorable and symbolize peace.\"),\n",
    "    dspy.Example(introduction=\"Kangaroo is an animal that is known for its powerful hind legs and ability to hop at high speeds.\", reason=\"I like kangaroos because they are fascinating and unique to Australia.\")\n",
    "]\n",
    "\n",
    "print(trainset)\n",
    "print(devset)"
   ]
  },
  {
   "cell_type": "markdown",
   "metadata": {},
   "source": [
    "#### Set up the metric , which is called `validate_answer` here"
   ]
  },
  {
   "cell_type": "code",
   "execution_count": 31,
   "metadata": {},
   "outputs": [],
   "source": [
    "# Define the signature for automatic assessments.\n",
    "class Assess(dspy.Signature):\n",
    "    \"\"\"Assess the quality of a tweet along the specified dimension.\"\"\"\n",
    "\n",
    "    assessed_text = dspy.InputField()\n",
    "    assessment_question = dspy.InputField()\n",
    "    assessment_answer = dspy.OutputField(desc=\"Yes or No\")\n",
    "\n",
    "gpt4T = dspy.OpenAI(model='gpt-4-1106-preview', max_tokens=1000, model_type='chat')\n",
    "\n",
    "def validate_answer(example, pred, trace=None):\n",
    "    # introduction_match = example.introduction.lower() in pred.reason.lower()\n",
    "    reason_match = example.reason.lower() in pred.reason.lower()\n",
    "    pattern_match = pred.reason.lower().startswith(\"i like\")\n",
    "\n",
    "    quality_question = \"Is the assessed text a well-written and coherent response?\"\n",
    "    with dspy.context(lm=gpt4T):\n",
    "        quality = dspy.Predict(Assess)(assessed_text=pred.reason, assessment_question=quality_question)\n",
    "\n",
    "    quality_match = quality.assessment_answer.lower() == 'yes'\n",
    "\n",
    "    print(reason_match, pattern_match, quality_match)\n",
    "    if trace is None:  # if we're doing evaluation or optimization\n",
    "        return (pattern_match + reason_match + quality_match) / 3.0\n",
    "    else:  # if we're doing bootstrapping, i.e., self-generating good demonstrations of each step\n",
    "        return pattern_match + reason_match and quality_match\n"
   ]
  },
  {
   "cell_type": "markdown",
   "metadata": {},
   "source": [
    "#### Define a custom program that utilizes the ChainOfThought module to generate reasons:"
   ]
  },
  {
   "cell_type": "code",
   "execution_count": 28,
   "metadata": {},
   "outputs": [],
   "source": [
    "class GenerateReason(dspy.Signature):\n",
    "    \"\"\"Based on the introduction, sum up the features what animals have.Take a assumption of what people could say when they like the animal.Start the sentence with 'I like' and end with a period.\"\"\"\n",
    "\n",
    "    introduction = dspy.InputField(desc=\"animal featurs and characteristics.\")\n",
    "    reason = dspy.OutputField(desc=\"The reason that I like the animal. Start the sentence with 'I like' and end with a period.\")"
   ]
  },
  {
   "cell_type": "code",
   "execution_count": 29,
   "metadata": {},
   "outputs": [
    {
     "name": "stdout",
     "output_type": "stream",
     "text": [
      "Prediction(\n",
      "    reason='I like monkeys because of their cleverness and adaptability.'\n",
      ")\n"
     ]
    }
   ],
   "source": [
    "class ReasonLikesAnimal(dspy.Module):\n",
    "    def __init__(self):\n",
    "        super().__init__()\n",
    "        self.generate_reason = dspy.ChainOfThought(GenerateReason)\n",
    "\n",
    "    def forward(self, introduction):\n",
    "        prediction = self.generate_reason(introduction=introduction)\n",
    "        return dspy.Prediction(reason=prediction.reason)\n",
    "\n",
    "program = ReasonLikesAnimal()\n",
    "response = program(introduction=devset[0].introduction)\n",
    "print(response)\n"
   ]
  },
  {
   "cell_type": "markdown",
   "metadata": {},
   "source": [
    "#### Specifying Input Keys"
   ]
  },
  {
   "cell_type": "code",
   "execution_count": 45,
   "metadata": {},
   "outputs": [
    {
     "name": "stdout",
     "output_type": "stream",
     "text": [
      "[Example({'introduction': 'Tiger is a animal that is known for its strength and majestic stripes.', 'reason': 'I like tigers because they are powerful and have a regal presence.'}) (input_keys={'introduction'}), Example({'introduction': \"Lion is an animal that is often called the 'King of the Jungle' because of its imposing mane and roar.\", 'reason': 'I like lions because they represent courage and leadership.'}) (input_keys={'introduction'}), Example({'introduction': 'Elephant is an animal that is the largest land mammal, known for its intelligence and long tusks.', 'reason': 'I like elephants because they are gentle giants with strong social bonds.'}) (input_keys={'introduction'}), Example({'introduction': 'Giraffe is an animal that is known for its long neck and legs, allowing it to reach leaves high in trees.', 'reason': 'I like giraffes because they are unique and graceful.'}) (input_keys={'introduction'}), Example({'introduction': 'Cheetah is an animal that is the fastest land animal, capable of reaching speeds up to 75 mph.', 'reason': 'I like cheetahs because they are incredibly swift and agile.'}) (input_keys={'introduction'}), Example({'introduction': 'Penguin is an animal that is known for its distinctive black and white plumage and ability to swim in cold waters.', 'reason': 'I like penguins because they are cute and resilient.'}) (input_keys={'introduction'})]\n",
      "[Example({'introduction': 'Monkey is an animal that is known for its intelligence and ability to use tools.', 'reason': 'I like monkeys because they are playful and smart.'}) (input_keys={'introduction'}), Example({'introduction': 'Dog is an animal that is known for its loyalty and companionship to humans.', 'reason': \"I like dogs because they are faithful and bring joy to people's lives.\"}) (input_keys={'introduction'}), Example({'introduction': 'Panda is an animal that is known for its distinctive black and white fur and love for bamboo.', 'reason': 'I like pandas because they are adorable and symbolize peace.'}) (input_keys={'introduction'}), Example({'introduction': 'Kangaroo is an animal that is known for its powerful hind legs and ability to hop at high speeds.', 'reason': 'I like kangaroos because they are fascinating and unique to Australia.'}) (input_keys={'introduction'})]\n"
     ]
    }
   ],
   "source": [
    "trainset_withinputs = []\n",
    "for i in trainset:\n",
    "    trainset_withinputs.append(i.with_inputs(\"introduction\"))\n",
    "print(trainset_withinputs)\n",
    "\n",
    "devset_withinputs = []\n",
    "for i in devset:\n",
    "    devset_withinputs.append(i.with_inputs(\"introduction\"))\n",
    "print(devset_withinputs)"
   ]
  },
  {
   "cell_type": "markdown",
   "metadata": {},
   "source": [
    "#### DSPy Optimizer tuning using `BootstrapFewShot`"
   ]
  },
  {
   "cell_type": "code",
   "execution_count": 42,
   "metadata": {},
   "outputs": [
    {
     "name": "stderr",
     "output_type": "stream",
     "text": [
      " 17%|█▋        | 1/6 [00:01<00:08,  1.64s/it]"
     ]
    },
    {
     "name": "stdout",
     "output_type": "stream",
     "text": [
      "False True True\n"
     ]
    },
    {
     "name": "stderr",
     "output_type": "stream",
     "text": [
      " 33%|███▎      | 2/6 [00:06<00:13,  3.29s/it]"
     ]
    },
    {
     "name": "stdout",
     "output_type": "stream",
     "text": [
      "False True False\n"
     ]
    },
    {
     "name": "stderr",
     "output_type": "stream",
     "text": [
      " 50%|█████     | 3/6 [00:08<00:08,  2.87s/it]"
     ]
    },
    {
     "name": "stdout",
     "output_type": "stream",
     "text": [
      "False True True\n"
     ]
    },
    {
     "name": "stderr",
     "output_type": "stream",
     "text": [
      " 67%|██████▋   | 4/6 [00:10<00:04,  2.38s/it]"
     ]
    },
    {
     "name": "stdout",
     "output_type": "stream",
     "text": [
      "False True True\n"
     ]
    },
    {
     "name": "stderr",
     "output_type": "stream",
     "text": [
      " 83%|████████▎ | 5/6 [00:11<00:02,  2.39s/it]"
     ]
    },
    {
     "name": "stdout",
     "output_type": "stream",
     "text": [
      "False True True\n",
      "Bootstrapped 4 full traces after 6 examples in round 0.\n"
     ]
    },
    {
     "name": "stderr",
     "output_type": "stream",
     "text": [
      "\n"
     ]
    }
   ],
   "source": [
    "from dspy.teleprompt import BootstrapFewShot\n",
    "\n",
    "config = dict(max_bootstrapped_demos=4, max_labeled_demos=4)\n",
    "\n",
    "teleprompter = BootstrapFewShot(metric=validate_answer, **config)\n",
    "\n",
    "optimized_cot = teleprompter.compile(ReasonLikesAnimal(), trainset=trainset_withinputs, valset=devset)"
   ]
  },
  {
   "cell_type": "markdown",
   "metadata": {},
   "source": [
    "#### Evaluate its performance"
   ]
  },
  {
   "cell_type": "code",
   "execution_count": 46,
   "metadata": {},
   "outputs": [
    {
     "name": "stderr",
     "output_type": "stream",
     "text": [
      "Average Metric: 0.6666666666666666 / 1  (66.7):  25%|██▌       | 1/4 [00:01<00:05,  1.83s/it]"
     ]
    },
    {
     "name": "stdout",
     "output_type": "stream",
     "text": [
      "False True True\n"
     ]
    },
    {
     "name": "stderr",
     "output_type": "stream",
     "text": [
      "Average Metric: 1.0 / 2  (50.0):  50%|█████     | 2/4 [00:05<00:06,  3.07s/it]               "
     ]
    },
    {
     "name": "stdout",
     "output_type": "stream",
     "text": [
      "False True False\n"
     ]
    },
    {
     "name": "stderr",
     "output_type": "stream",
     "text": [
      "Average Metric: 1.6666666666666665 / 3  (55.6):  75%|███████▌  | 3/4 [00:07<00:02,  2.37s/it]"
     ]
    },
    {
     "name": "stdout",
     "output_type": "stream",
     "text": [
      "False True True\n"
     ]
    },
    {
     "name": "stderr",
     "output_type": "stream",
     "text": [
      "Average Metric: 2.333333333333333 / 4  (58.3): 100%|██████████| 4/4 [00:09<00:00,  2.30s/it] "
     ]
    },
    {
     "name": "stdout",
     "output_type": "stream",
     "text": [
      "False True True\n",
      "Average Metric: 2.333333333333333 / 4  (58.3%)\n"
     ]
    },
    {
     "name": "stderr",
     "output_type": "stream",
     "text": [
      "\n",
      "/home/cch1006/langchain-startup/venv/lib/python3.10/site-packages/dspy/evaluate/evaluate.py:142: FutureWarning: DataFrame.applymap has been deprecated. Use DataFrame.map instead.\n",
      "  df = df.applymap(truncate_cell)\n",
      "/home/cch1006/langchain-startup/venv/lib/python3.10/site-packages/dspy/evaluate/evaluate.py:216: FutureWarning: Setting an item of incompatible dtype is deprecated and will raise in a future error of pandas. Value '['0.6666666666666666' '0.3333333333333333' '0.6666666666666666'\n",
      " '0.6666666666666666']' has dtype incompatible with float64, please explicitly cast to a compatible dtype first.\n",
      "  df.loc[:, metric_name] = df[metric_name].apply(lambda x: f'✔️ [{x}]' if x is True else f'{x}')\n"
     ]
    },
    {
     "data": {
      "text/html": [
       "<style type=\"text/css\">\n",
       "#T_b4ad5 th {\n",
       "  text-align: left;\n",
       "}\n",
       "#T_b4ad5 td {\n",
       "  text-align: left;\n",
       "}\n",
       "#T_b4ad5_row0_col0, #T_b4ad5_row0_col1, #T_b4ad5_row0_col2, #T_b4ad5_row0_col3, #T_b4ad5_row1_col0, #T_b4ad5_row1_col1, #T_b4ad5_row1_col2, #T_b4ad5_row1_col3, #T_b4ad5_row2_col0, #T_b4ad5_row2_col1, #T_b4ad5_row2_col2, #T_b4ad5_row2_col3, #T_b4ad5_row3_col0, #T_b4ad5_row3_col1, #T_b4ad5_row3_col2, #T_b4ad5_row3_col3 {\n",
       "  text-align: left;\n",
       "  white-space: pre-wrap;\n",
       "  word-wrap: break-word;\n",
       "  max-width: 400px;\n",
       "}\n",
       "</style>\n",
       "<table id=\"T_b4ad5\">\n",
       "  <thead>\n",
       "    <tr>\n",
       "      <th class=\"blank level0\" >&nbsp;</th>\n",
       "      <th id=\"T_b4ad5_level0_col0\" class=\"col_heading level0 col0\" >introduction</th>\n",
       "      <th id=\"T_b4ad5_level0_col1\" class=\"col_heading level0 col1\" >example_reason</th>\n",
       "      <th id=\"T_b4ad5_level0_col2\" class=\"col_heading level0 col2\" >pred_reason</th>\n",
       "      <th id=\"T_b4ad5_level0_col3\" class=\"col_heading level0 col3\" >validate_answer</th>\n",
       "    </tr>\n",
       "  </thead>\n",
       "  <tbody>\n",
       "    <tr>\n",
       "      <th id=\"T_b4ad5_level0_row0\" class=\"row_heading level0 row0\" >0</th>\n",
       "      <td id=\"T_b4ad5_row0_col0\" class=\"data row0 col0\" >Monkey is an animal that is known for its intelligence and ability to use tools.</td>\n",
       "      <td id=\"T_b4ad5_row0_col1\" class=\"data row0 col1\" >I like monkeys because they are playful and smart.</td>\n",
       "      <td id=\"T_b4ad5_row0_col2\" class=\"data row0 col2\" >I like monkeys because they are clever and have impressive cognitive abilities.</td>\n",
       "      <td id=\"T_b4ad5_row0_col3\" class=\"data row0 col3\" >0.6666666666666666</td>\n",
       "    </tr>\n",
       "    <tr>\n",
       "      <th id=\"T_b4ad5_level0_row1\" class=\"row_heading level0 row1\" >1</th>\n",
       "      <td id=\"T_b4ad5_row1_col0\" class=\"data row1 col0\" >Dog is an animal that is known for its loyalty and companionship to humans.</td>\n",
       "      <td id=\"T_b4ad5_row1_col1\" class=\"data row1 col1\" >I like dogs because they are faithful and bring joy to people's lives.</td>\n",
       "      <td id=\"T_b4ad5_row1_col2\" class=\"data row1 col2\" >I like dogs because they are loyal and loving companions who have been by our side for centuries.</td>\n",
       "      <td id=\"T_b4ad5_row1_col3\" class=\"data row1 col3\" >0.3333333333333333</td>\n",
       "    </tr>\n",
       "    <tr>\n",
       "      <th id=\"T_b4ad5_level0_row2\" class=\"row_heading level0 row2\" >2</th>\n",
       "      <td id=\"T_b4ad5_row2_col0\" class=\"data row2 col0\" >Panda is an animal that is known for its distinctive black and white fur and love for bamboo.</td>\n",
       "      <td id=\"T_b4ad5_row2_col1\" class=\"data row2 col1\" >I like pandas because they are adorable and symbolize peace.</td>\n",
       "      <td id=\"T_b4ad5_row2_col2\" class=\"data row2 col2\" >I like pandas because they are cute and have a special diet that makes them stand out among other bears.</td>\n",
       "      <td id=\"T_b4ad5_row2_col3\" class=\"data row2 col3\" >0.6666666666666666</td>\n",
       "    </tr>\n",
       "    <tr>\n",
       "      <th id=\"T_b4ad5_level0_row3\" class=\"row_heading level0 row3\" >3</th>\n",
       "      <td id=\"T_b4ad5_row3_col0\" class=\"data row3 col0\" >Kangaroo is an animal that is known for its powerful hind legs and ability to hop at high speeds.</td>\n",
       "      <td id=\"T_b4ad5_row3_col1\" class=\"data row3 col1\" >I like kangaroos because they are fascinating and unique to Australia.</td>\n",
       "      <td id=\"T_b4ad5_row3_col2\" class=\"data row3 col2\" >I like kangaroos because they are fascinating creatures with powerful legs and a unique way of caring for their young.</td>\n",
       "      <td id=\"T_b4ad5_row3_col3\" class=\"data row3 col3\" >0.6666666666666666</td>\n",
       "    </tr>\n",
       "  </tbody>\n",
       "</table>\n"
      ],
      "text/plain": [
       "<pandas.io.formats.style.Styler at 0x7f1a0d216110>"
      ]
     },
     "metadata": {},
     "output_type": "display_data"
    },
    {
     "data": {
      "text/plain": [
       "58.33"
      ]
     },
     "execution_count": 46,
     "metadata": {},
     "output_type": "execute_result"
    }
   ],
   "source": [
    "from dspy.evaluate import Evaluate\n",
    "\n",
    "# Set up the evaluator, which can be used multiple times.\n",
    "evaluate = Evaluate(devset=devset_withinputs, metric=validate_answer, num_threads=1, display_progress=True, display_table=5)\n",
    "\n",
    "# Evaluate our `optimized_cot` program.\n",
    "evaluate(optimized_cot)"
   ]
  },
  {
   "cell_type": "markdown",
   "metadata": {},
   "source": [
    "#### Inspect the Model's History"
   ]
  },
  {
   "cell_type": "code",
   "execution_count": 47,
   "metadata": {},
   "outputs": [
    {
     "name": "stdout",
     "output_type": "stream",
     "text": [
      "\n",
      "\n",
      "\n",
      "\n",
      "Based on the introduction, sum up the features what animals have.Take a assumption of what people could say when they like the animal.Start the sentence with 'I like' and end with a period.\n",
      "\n",
      "---\n",
      "\n",
      "Follow the following format.\n",
      "\n",
      "Introduction: animal featurs and characteristics.\n",
      "Reasoning: Let's think step by step in order to ${produce the reason}. We ...\n",
      "Reason: The reason that I like the animal. Start the sentence with 'I like' and end with a period.\n",
      "\n",
      "---\n",
      "\n",
      "Introduction: Tiger is a animal that is known for its strength and majestic stripes.\n",
      "Reasoning: Let's think step by step in order to understand why tigers are so admired. We can start by looking at their powerful build and beautiful markings, which make them stand out in the animal kingdom.\n",
      "Reason: I like tigers because they are fierce and beautiful creatures.\n",
      "\n",
      "---\n",
      "\n",
      "Introduction: Elephant is an animal that is the largest land mammal, known for its intelligence and long tusks.\n",
      "Reasoning: Let's think step by step in order to understand why elephants are so beloved. We can start with their size and strength, then move on to their social and emotional intelligence, and finally appreciate their unique physical features such as their long trunks and tusks.\n",
      "Reason: I like elephants because they are gentle giants and have a complex social structure.\n",
      "\n",
      "---\n",
      "\n",
      "Introduction: Giraffe is an animal that is known for its long neck and legs, allowing it to reach leaves high in trees.\n",
      "Reasoning: Let's think step by step in order to understand why giraffes have such long necks and legs. We can assume that it helps them reach food in tall trees and also allows them to spot predators from a distance.\n",
      "Reason: I like giraffes because they are unique and have adapted to their environment in a fascinating way.\n",
      "\n",
      "---\n",
      "\n",
      "Introduction: Cheetah is an animal that is the fastest land animal, capable of reaching speeds up to 75 mph.\n",
      "Reasoning: Let's think step by step in order to understand why cheetahs are so fast. We can start by looking at their long legs and flexible spine, which allows them to cover long distances quickly. Additionally, their large nostrils and lungs help them to take in more oxygen, giving them the energy they need to run at high speeds.\n",
      "Reason: I like cheetahs because they are incredibly fast and have unique physical adaptations that allow them to thrive in their environment.\n",
      "\n",
      "---\n",
      "\n",
      "Introduction: Kangaroo is an animal that is known for its powerful hind legs and ability to hop at high speeds.\n",
      "Reasoning: Let's think step by step in order to\u001b[32m understand why kangaroos have such strong hind legs. We can assume that it helps them to move quickly and efficiently, as well as defend themselves from predators. Additionally, their pouches are a unique feature that allows them to carry and protect their young.\n",
      "Reason: I like kangaroos because they are fascinating creatures with powerful legs and a unique way of caring for their young.\u001b[0m\n",
      "\n",
      "\n",
      "\n"
     ]
    }
   ],
   "source": [
    "turbo.inspect_history(n=1)"
   ]
  },
  {
   "cell_type": "markdown",
   "metadata": {},
   "source": [
    "#### This is the untrained one, you can see that the `evaluate_compare(program)` is lower"
   ]
  },
  {
   "cell_type": "code",
   "execution_count": 53,
   "metadata": {},
   "outputs": [
    {
     "name": "stderr",
     "output_type": "stream",
     "text": [
      "Average Metric: 2.0 / 4  (50.0): 100%|██████████| 4/4 [00:00<00:00, 440.08it/s]               "
     ]
    },
    {
     "name": "stdout",
     "output_type": "stream",
     "text": [
      "False True False\n",
      "False True True\n",
      "False True False\n",
      "False True True\n",
      "Average Metric: 2.0 / 4  (50.0%)\n"
     ]
    },
    {
     "name": "stderr",
     "output_type": "stream",
     "text": [
      "\n",
      "/home/cch1006/langchain-startup/venv/lib/python3.10/site-packages/dspy/evaluate/evaluate.py:142: FutureWarning: DataFrame.applymap has been deprecated. Use DataFrame.map instead.\n",
      "  df = df.applymap(truncate_cell)\n",
      "/home/cch1006/langchain-startup/venv/lib/python3.10/site-packages/dspy/evaluate/evaluate.py:216: FutureWarning: Setting an item of incompatible dtype is deprecated and will raise in a future error of pandas. Value '['0.3333333333333333' '0.6666666666666666' '0.3333333333333333'\n",
      " '0.6666666666666666']' has dtype incompatible with float64, please explicitly cast to a compatible dtype first.\n",
      "  df.loc[:, metric_name] = df[metric_name].apply(lambda x: f'✔️ [{x}]' if x is True else f'{x}')\n"
     ]
    },
    {
     "data": {
      "text/html": [
       "<style type=\"text/css\">\n",
       "#T_a3637 th {\n",
       "  text-align: left;\n",
       "}\n",
       "#T_a3637 td {\n",
       "  text-align: left;\n",
       "}\n",
       "#T_a3637_row0_col0, #T_a3637_row0_col1, #T_a3637_row0_col2, #T_a3637_row0_col3, #T_a3637_row1_col0, #T_a3637_row1_col1, #T_a3637_row1_col2, #T_a3637_row1_col3, #T_a3637_row2_col0, #T_a3637_row2_col1, #T_a3637_row2_col2, #T_a3637_row2_col3, #T_a3637_row3_col0, #T_a3637_row3_col1, #T_a3637_row3_col2, #T_a3637_row3_col3 {\n",
       "  text-align: left;\n",
       "  white-space: pre-wrap;\n",
       "  word-wrap: break-word;\n",
       "  max-width: 400px;\n",
       "}\n",
       "</style>\n",
       "<table id=\"T_a3637\">\n",
       "  <thead>\n",
       "    <tr>\n",
       "      <th class=\"blank level0\" >&nbsp;</th>\n",
       "      <th id=\"T_a3637_level0_col0\" class=\"col_heading level0 col0\" >introduction</th>\n",
       "      <th id=\"T_a3637_level0_col1\" class=\"col_heading level0 col1\" >example_reason</th>\n",
       "      <th id=\"T_a3637_level0_col2\" class=\"col_heading level0 col2\" >pred_reason</th>\n",
       "      <th id=\"T_a3637_level0_col3\" class=\"col_heading level0 col3\" >validate_answer</th>\n",
       "    </tr>\n",
       "  </thead>\n",
       "  <tbody>\n",
       "    <tr>\n",
       "      <th id=\"T_a3637_level0_row0\" class=\"row_heading level0 row0\" >0</th>\n",
       "      <td id=\"T_a3637_row0_col0\" class=\"data row0 col0\" >Monkey is an animal that is known for its intelligence and ability to use tools.</td>\n",
       "      <td id=\"T_a3637_row0_col1\" class=\"data row0 col1\" >I like monkeys because they are playful and smart.</td>\n",
       "      <td id=\"T_a3637_row0_col2\" class=\"data row0 col2\" >I like monkeys because of their cleverness and adaptability.</td>\n",
       "      <td id=\"T_a3637_row0_col3\" class=\"data row0 col3\" >0.3333333333333333</td>\n",
       "    </tr>\n",
       "    <tr>\n",
       "      <th id=\"T_a3637_level0_row1\" class=\"row_heading level0 row1\" >1</th>\n",
       "      <td id=\"T_a3637_row1_col0\" class=\"data row1 col0\" >Dog is an animal that is known for its loyalty and companionship to humans.</td>\n",
       "      <td id=\"T_a3637_row1_col1\" class=\"data row1 col1\" >I like dogs because they are faithful and bring joy to people's lives.</td>\n",
       "      <td id=\"T_a3637_row1_col2\" class=\"data row1 col2\" >I like dogs because they are not only cute and cuddly, but also fiercely loyal and loving towards their human companions.</td>\n",
       "      <td id=\"T_a3637_row1_col3\" class=\"data row1 col3\" >0.6666666666666666</td>\n",
       "    </tr>\n",
       "    <tr>\n",
       "      <th id=\"T_a3637_level0_row2\" class=\"row_heading level0 row2\" >2</th>\n",
       "      <td id=\"T_a3637_row2_col0\" class=\"data row2 col0\" >Panda is an animal that is known for its distinctive black and white fur and love for bamboo.</td>\n",
       "      <td id=\"T_a3637_row2_col1\" class=\"data row2 col1\" >I like pandas because they are adorable and symbolize peace.</td>\n",
       "      <td id=\"T_a3637_row2_col2\" class=\"data row2 col2\" >I like pandas because they are adorable and have a peaceful nature.</td>\n",
       "      <td id=\"T_a3637_row2_col3\" class=\"data row2 col3\" >0.3333333333333333</td>\n",
       "    </tr>\n",
       "    <tr>\n",
       "      <th id=\"T_a3637_level0_row3\" class=\"row_heading level0 row3\" >3</th>\n",
       "      <td id=\"T_a3637_row3_col0\" class=\"data row3 col0\" >Kangaroo is an animal that is known for its powerful hind legs and ability to hop at high speeds.</td>\n",
       "      <td id=\"T_a3637_row3_col1\" class=\"data row3 col1\" >I like kangaroos because they are fascinating and unique to Australia.</td>\n",
       "      <td id=\"T_a3637_row3_col2\" class=\"data row3 col2\" >I like kangaroos because of their adorable pouches and their impressive jumping abilities.</td>\n",
       "      <td id=\"T_a3637_row3_col3\" class=\"data row3 col3\" >0.6666666666666666</td>\n",
       "    </tr>\n",
       "  </tbody>\n",
       "</table>\n"
      ],
      "text/plain": [
       "<pandas.io.formats.style.Styler at 0x7f1a1c0c7a90>"
      ]
     },
     "metadata": {},
     "output_type": "display_data"
    },
    {
     "data": {
      "text/plain": [
       "50.0"
      ]
     },
     "execution_count": 53,
     "metadata": {},
     "output_type": "execute_result"
    }
   ],
   "source": [
    "# Set up the evaluator, which can be re-used in your code.\n",
    "evaluate_compare = Evaluate(devset=devset_withinputs, metric=validate_answer, num_threads=1, display_progress=True, display_table=5)\n",
    "\n",
    "# Launch evaluation.\n",
    "evaluate_compare(program)"
   ]
  },
  {
   "cell_type": "code",
   "execution_count": null,
   "metadata": {},
   "outputs": [],
   "source": []
  }
 ],
 "metadata": {
  "kernelspec": {
   "display_name": "venv",
   "language": "python",
   "name": "python3"
  },
  "language_info": {
   "codemirror_mode": {
    "name": "ipython",
    "version": 3
   },
   "file_extension": ".py",
   "mimetype": "text/x-python",
   "name": "python",
   "nbconvert_exporter": "python",
   "pygments_lexer": "ipython3",
   "version": "3.10.12"
  }
 },
 "nbformat": 4,
 "nbformat_minor": 2
}
