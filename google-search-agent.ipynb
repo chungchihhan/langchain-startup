{
 "cells": [
  {
   "cell_type": "code",
   "execution_count": null,
   "metadata": {},
   "outputs": [],
   "source": [
    "from dotenv import load_dotenv\n",
    "import os\n",
    "\n",
    "load_dotenv()  # 這會自動尋找並加載項目根目錄下的 .env 文件\n",
    "\n",
    "api_key = os.getenv('OPENAI_API_KEY')"
   ]
  }
 ],
 "metadata": {
  "language_info": {
   "name": "python"
  }
 },
 "nbformat": 4,
 "nbformat_minor": 2
}
