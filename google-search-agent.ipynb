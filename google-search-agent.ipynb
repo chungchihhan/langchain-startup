{
 "cells": [
  {
   "cell_type": "code",
   "execution_count": 13,
   "metadata": {},
   "outputs": [],
   "source": [
    "from dotenv import load_dotenv\n",
    "import os\n",
    "\n",
    "load_dotenv()\n",
    "openai_api_key = os.getenv('OPENAI_API_KEY')\n",
    "serpapi_api_key = os.getenv('SERPAPI_API_KEY')"
   ]
  },
  {
   "cell_type": "code",
   "execution_count": 10,
   "metadata": {},
   "outputs": [],
   "source": [
    "from langchain.agents import load_tools\n",
    "from langchain.agents import initialize_agent\n",
    "from langchain.llms import OpenAI"
   ]
  },
  {
   "cell_type": "code",
   "execution_count": 11,
   "metadata": {},
   "outputs": [
    {
     "name": "stderr",
     "output_type": "stream",
     "text": [
      "/home/cch1006/langchain-startup/venv/lib/python3.10/site-packages/langchain_core/_api/deprecation.py:117: LangChainDeprecationWarning: The class `langchain_community.llms.openai.OpenAI` was deprecated in langchain-community 0.0.10 and will be removed in 0.2.0. An updated version of the class exists in the langchain-openai package and should be used instead. To use it run `pip install -U langchain-openai` and import as `from langchain_openai import OpenAI`.\n",
      "  warn_deprecated(\n"
     ]
    }
   ],
   "source": [
    "llm = OpenAI(temperature=0.5, max_tokens=100, api_key=api_key)"
   ]
  },
  {
   "cell_type": "code",
   "execution_count": 16,
   "metadata": {},
   "outputs": [],
   "source": [
    "tools = load_tools([\"serpapi\", \"llm-math\"],llm=llm)"
   ]
  },
  {
   "cell_type": "code",
   "execution_count": 17,
   "metadata": {},
   "outputs": [
    {
     "name": "stderr",
     "output_type": "stream",
     "text": [
      "/home/cch1006/langchain-startup/venv/lib/python3.10/site-packages/langchain_core/_api/deprecation.py:117: LangChainDeprecationWarning: The function `initialize_agent` was deprecated in LangChain 0.1.0 and will be removed in 0.2.0. Use Use new agent constructor methods like create_react_agent, create_json_agent, create_structured_chat_agent, etc. instead.\n",
      "  warn_deprecated(\n"
     ]
    }
   ],
   "source": [
    "agents = initialize_agent(tools,llm,agent=\"zero-shot-react-description\",verbose=True)"
   ]
  },
  {
   "cell_type": "code",
   "execution_count": 18,
   "metadata": {},
   "outputs": [
    {
     "name": "stderr",
     "output_type": "stream",
     "text": [
      "/home/cch1006/langchain-startup/venv/lib/python3.10/site-packages/langchain_core/_api/deprecation.py:117: LangChainDeprecationWarning: The function `run` was deprecated in LangChain 0.1.0 and will be removed in 0.2.0. Use invoke instead.\n",
      "  warn_deprecated(\n"
     ]
    },
    {
     "name": "stdout",
     "output_type": "stream",
     "text": [
      "\n",
      "\n",
      "\u001b[1m> Entering new AgentExecutor chain...\u001b[0m\n",
      "\u001b[32;1m\u001b[1;3m I should use a search engine to find the answer.\n",
      "Action: Search\n",
      "Action Input: \"current leader of Japan\"\u001b[0m\n",
      "Observation: \u001b[36;1m\u001b[1;3mThe prime minister also serves as the commander-in-chief of the Japan Self Defence Forces and is a sitting member of either house of the National Diet (typically the House of Representatives). The current prime minister is Fumio Kishida of the Liberal Democratic Party, who assumed the office on 4 October 2021.\u001b[0m\n",
      "Thought:\u001b[32;1m\u001b[1;3m I should confirm this information with another source.\n",
      "Action: Search\n",
      "Action Input: \"Fumio Kishida\"\u001b[0m\n",
      "Observation: \u001b[36;1m\u001b[1;3m['Fumio Kishida is a Japanese politician who has served as Prime Minister of Japan and President of the Liberal Democratic Party since 2021. A member of the House of Representatives, he previously served as Minister for Foreign Affairs from 2012 to 2017 and as acting Minister of Defense in 2017.', 'Fumio Kishida type: Prime Minister of Japan.', 'Fumio Kishida main_tab_text: Overview.', 'Fumio Kishida kgmid: /m/03c7pxm.', 'Fumio Kishida born: July 29, 1957 (age 66 years), Shibuya City, Tokyo, Japan.', 'Fumio Kishida party: Liberal Democratic Party.', 'Fumio Kishida spouse: Yuko Kishida (m. 1988).', 'Fumio Kishida children: Shotaro Kishida.', 'Fumio Kishida education: School of Law, Waseda University (1978–1982).', 'Fumio Kishida office: Prime Minister of Japan since 2021.', 'Fumio Kishida previous_campaign: House of Representatives for Hiroshima 1 Election, 2021.', 'Fumio Kishida is a Japanese politician who has served as Prime Minister of Japan and President of the Liberal Democratic Party (LDP) since 2021.', 'Nov. 2021: The 101st Prime Minister; Oct. 2021: The 100th Prime Minister; Aug. 2017: Political Chairperson of LDP; Jul. 2017: Minister of Defense (3rd Abe ...', 'Fumio Kishida Japanese politician who served as leader of the Liberal-Democratic Party of Japan (LDP) and head of the Kōchikai (a faction ...', 'Japanese Prime Minister Fumio Kishida has announced a $141 million emergency fund to help exporters hit by a ban on Japanese seafood imposed by China in ...', 'Biography ; 2008. Minister for Consumer Affairs Minister for Space Policy (Fukuda Cabinet) ; 2007. Minister of State for Okinawa and Northern Territories Affairs', \"Contributed Article by Prime Minister KISHIDA Fumio to The Nikkei's Special Feature on the Japan-... From japan.kantei.go.jp.\", 'Japanese Prime Minister Fumio Kishida is struggling to rein in the widest financial scandal to hit his long-ruling Liberal Democratic Party ...', 'KISHIDA Fumio, Prime Minister of Japan, is scheduled to visit France, Italy, the United Kingdom, Canada and the United States of America. During his visit ...', \"Prime Minister Fumio Kishida speaks to reporters at the Prime Minister's Office in Tokyo on Thursday. JAPAN / Politics. Feb 16 ...\", \"Fumio Kishida was elected as Japan's 100th Prime Minister on October 4 after winning a majority of votes in both houses of parliament.\"]\u001b[0m\n",
      "Thought:\u001b[32;1m\u001b[1;3m This information seems to be consistent and reliable.\n",
      "Action: Search\n",
      "Action Input: \"Fumio Kishida leadership\"\u001b[0m\n",
      "Observation: \u001b[36;1m\u001b[1;3mKishida resigned from the Abe cabinet in 2017 in order to head the LDP's Policy Research Council. Kishida also assumed leadership of the LDP's more moderate Kōchikai faction in 2012 following the retirement of faction leader Makoto Koga, a position he held until his resignation in 2023.\u001b[0m\n",
      "Thought:\u001b[32;1m\u001b[1;3m I now know the final answer.\n",
      "Final Answer: The current leader of Japan is Fumio Kishida.\u001b[0m\n",
      "\n",
      "\u001b[1m> Finished chain.\u001b[0m\n"
     ]
    },
    {
     "data": {
      "text/plain": [
       "'The current leader of Japan is Fumio Kishida.'"
      ]
     },
     "execution_count": 18,
     "metadata": {},
     "output_type": "execute_result"
    }
   ],
   "source": [
    "agents.run(\"who is the current leader of Japan?\")"
   ]
  },
  {
   "cell_type": "code",
   "execution_count": null,
   "metadata": {},
   "outputs": [],
   "source": []
  }
 ],
 "metadata": {
  "kernelspec": {
   "display_name": "venv",
   "language": "python",
   "name": "python3"
  },
  "language_info": {
   "codemirror_mode": {
    "name": "ipython",
    "version": 3
   },
   "file_extension": ".py",
   "mimetype": "text/x-python",
   "name": "python",
   "nbconvert_exporter": "python",
   "pygments_lexer": "ipython3",
   "version": "3.10.12"
  }
 },
 "nbformat": 4,
 "nbformat_minor": 2
}
