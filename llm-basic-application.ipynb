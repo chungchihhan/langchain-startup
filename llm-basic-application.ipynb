{
 "cells": [
  {
   "cell_type": "code",
   "execution_count": 1,
   "metadata": {},
   "outputs": [],
   "source": [
    "from langchain.llms import OpenAI"
   ]
  },
  {
   "cell_type": "code",
   "execution_count": 4,
   "metadata": {},
   "outputs": [],
   "source": [
    "llm = OpenAI(temperature=0.9)"
   ]
  },
  {
   "cell_type": "code",
   "execution_count": 5,
   "metadata": {},
   "outputs": [
    {
     "name": "stdout",
     "output_type": "stream",
     "text": [
      "\n",
      "\n",
      "Hello! My name is [Name] and I am [age] years old. I was born and raised in [city/town], but I currently reside in [city/town]. I come from a big family of [number of siblings] siblings and I am the [oldest/middle/youngest] child. \n",
      "\n",
      "I have a wide range of interests and hobbies, but some of my favorites include reading, hiking, and cooking. I also enjoy traveling and learning about different cultures and customs.\n",
      "\n",
      "Professionally, I am [job/profession] and have been working in this field for [number of years]. I am passionate about my work and always strive to learn new skills and improve in my role.\n",
      "\n",
      "In my free time, you can often find me spending time with my family and friends, trying out new recipes in the kitchen, or exploring new hiking trails. I am also an animal lover and have a pet [dog/cat] who brings so much joy into my life.\n",
      "\n",
      "I am excited to be here and look forward to getting to know all of you better! \n"
     ]
    }
   ],
   "source": [
    "text = \"introduce yourself\"\n",
    "print(llm(text))"
   ]
  }
 ],
 "metadata": {
  "kernelspec": {
   "display_name": "venv",
   "language": "python",
   "name": "python3"
  },
  "language_info": {
   "codemirror_mode": {
    "name": "ipython",
    "version": 3
   },
   "file_extension": ".py",
   "mimetype": "text/x-python",
   "name": "python",
   "nbconvert_exporter": "python",
   "pygments_lexer": "ipython3",
   "version": "3.10.12"
  }
 },
 "nbformat": 4,
 "nbformat_minor": 2
}
