{
 "cells": [
  {
   "cell_type": "markdown",
   "metadata": {},
   "source": [
    "#### What other DSPy modules are there? How can I use them?\n",
    "\n",
    "> The others are very similar. They mainly change the internal behavior with which your signature is implemented!\n",
    "\n",
    "1. `dspy.Predict`: Basic predictor. Does not modify the signature. Handles the key forms of learning (i.e., storing the instructions and demonstrations and updates to the LM).\n",
    "\n",
    "2. `dspy.ChainOfThought`: Teaches the LM to think step-by-step before committing to the signature's response.\n",
    "\n",
    "3. `dspy.ProgramOfThought`: Teaches the LM to output code, whose execution results will dictate the response.\n",
    "\n",
    "4. `dspy.ReAct`: An agent that can use tools to implement the given signature.\n",
    "\n",
    "5. `dspy.MultiChainComparison`: Can compare multiple outputs from ChainOfThought to produce a final prediction.\n",
    "\n",
    "> We also have some function-style modules:\n",
    "\n",
    "6. `dspy.majority`: Can do basic voting to return the most popular response from a set of predictions."
   ]
  },
  {
   "cell_type": "code",
   "execution_count": 6,
   "metadata": {},
   "outputs": [
    {
     "data": {
      "text/plain": [
       "True"
      ]
     },
     "execution_count": 6,
     "metadata": {},
     "output_type": "execute_result"
    }
   ],
   "source": [
    "from dotenv import load_dotenv\n",
    "load_dotenv()"
   ]
  },
  {
   "cell_type": "code",
   "execution_count": 7,
   "metadata": {},
   "outputs": [],
   "source": [
    "import dspy\n",
    "gpt3_turbo = dspy.OpenAI(model='gpt-3.5-turbo-1106', max_tokens=300)\n",
    "dspy.configure(lm=gpt3_turbo)"
   ]
  },
  {
   "cell_type": "markdown",
   "metadata": {},
   "source": [
    "The `dspy.ProgramOfThought` only accepts question and answer , seems like it cannot use Class-based DSPy Signatures"
   ]
  },
  {
   "cell_type": "code",
   "execution_count": 29,
   "metadata": {},
   "outputs": [
    {
     "name": "stdout",
     "output_type": "stream",
     "text": [
      "Error in code execution\n",
      "Error in code execution\n",
      "Error in code execution\n",
      "Max hops reached. Error persists.\n"
     ]
    }
   ],
   "source": [
    "# class CodeGenerate(dspy.Signature):\n",
    "#     \"\"\"Run python code and output the result based on the question\"\"\"\n",
    "\n",
    "#     question = dspy.InputField(desc=\"The requirements for the code sample.\")\n",
    "#     answer = dspy.OutputField(desc=\"The generated code sample and what it does.\")\n",
    "\n",
    "# question = \"print the first 5 numbers in the fibonacci sequence.\"\n",
    "\n",
    "# response = dspy.ProgramOfThought(CodeGenerate)\n",
    "# response(question=question)"
   ]
  },
  {
   "cell_type": "code",
   "execution_count": 16,
   "metadata": {},
   "outputs": [
    {
     "name": "stdout",
     "output_type": "stream",
     "text": [
      "[0, 1, 1, 2, 3, 5, 8, 13, 21, 34]\n"
     ]
    },
    {
     "data": {
      "text/plain": [
       "Prediction(\n",
       "    rationale='produce the answer. We need to create a function that generates the first 10 numbers in the Fibonacci sequence. We start with the first two numbers, 0 and 1, and then use a for loop to calculate the next numbers by adding the last two numbers in the sequence. We then return the entire sequence.',\n",
       "    answer='[0, 1, 1, 2, 3, 5, 8, 13, 21, 34]'\n",
       ")"
      ]
     },
     "execution_count": 16,
     "metadata": {},
     "output_type": "execute_result"
    }
   ],
   "source": [
    "question = \"print the first 10 numbers in the fibonacci sequence.\"\n",
    "\n",
    "codeGenerator = dspy.ProgramOfThought('question -> answer')\n",
    "response  = codeGenerator(question=question)\n",
    "response"
   ]
  }
 ],
 "metadata": {
  "kernelspec": {
   "display_name": "venv",
   "language": "python",
   "name": "python3"
  },
  "language_info": {
   "codemirror_mode": {
    "name": "ipython",
    "version": 3
   },
   "file_extension": ".py",
   "mimetype": "text/x-python",
   "name": "python",
   "nbconvert_exporter": "python",
   "pygments_lexer": "ipython3",
   "version": "3.10.12"
  }
 },
 "nbformat": 4,
 "nbformat_minor": 2
}
